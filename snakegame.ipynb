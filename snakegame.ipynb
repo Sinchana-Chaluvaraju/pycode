{
 "cells": [
  {
   "cell_type": "code",
   "execution_count": null,
   "id": "627ad2b4-5104-4d4e-86bf-de571d56e6ca",
   "metadata": {},
   "outputs": [],
   "source": [
    "import pygame"
   ]
  },
  {
   "cell_type": "code",
   "execution_count": null,
   "id": "9315c6f4-e7b8-49e8-93cb-5f84ef7d0bdd",
   "metadata": {},
   "outputs": [],
   "source": [
    "import sys"
   ]
  },
  {
   "cell_type": "code",
   "execution_count": null,
   "id": "8d48e89e-5b3b-4e03-a06b-3dce7ec0e5f4",
   "metadata": {},
   "outputs": [],
   "source": [
    "import os"
   ]
  },
  {
   "cell_type": "code",
   "execution_count": null,
   "id": "dd751244-0836-45c5-811c-74508ad9d656",
   "metadata": {},
   "outputs": [],
   "source": [
    "import random"
   ]
  },
  {
   "cell_type": "code",
   "execution_count": null,
   "id": "9758b972-2b19-4014-986f-1c4f2baa3874",
   "metadata": {},
   "outputs": [],
   "source": [
    "import math"
   ]
  },
  {
   "cell_type": "code",
   "execution_count": null,
   "id": "1fdd5c69-1aab-4714-a8a1-c88a05f69b71",
   "metadata": {},
   "outputs": [],
   "source": [
    "pygame.init()"
   ]
  },
  {
   "cell_type": "code",
   "execution_count": null,
   "id": "f1851e8d-a25a-4ee2-a472-082b97d4cb33",
   "metadata": {},
   "outputs": [],
   "source": [
    "# Define colors\n",
    "white = (255, 255, 255)\n",
    "yellow = (255, 255, 102)\n",
    "black = (0, 0, 0)\n",
    "red = (213, 50, 80)\n",
    "green = (0, 255, 0)\n",
    "blue = (50, 153, 213)"
   ]
  },
  {
   "cell_type": "code",
   "execution_count": null,
   "id": "79075e69-31c4-4bb9-b387-57519c25df9f",
   "metadata": {},
   "outputs": [],
   "source": [
    "# Define display dimensions\n",
    "display_width = 600\n",
    "display_height = 400"
   ]
  },
  {
   "cell_type": "code",
   "execution_count": null,
   "id": "53aa6d09-c8bb-4082-bf16-86c4f0bf5722",
   "metadata": {},
   "outputs": [],
   "source": [
    "# Initialize game display\n",
    "display = pygame.display.set_mode((display_width, display_height))\n",
    "pygame.display.set_caption(\"Snake Game\")"
   ]
  },
  {
   "cell_type": "code",
   "execution_count": null,
   "id": "985cce73-35bc-4aee-b8ae-107952570147",
   "metadata": {},
   "outputs": [],
   "source": [
    "# Define snake properties\n",
    "snake_block = 10\n",
    "snake_speed = 15"
   ]
  },
  {
   "cell_type": "code",
   "execution_count": null,
   "id": "86971b48-33ae-4406-9406-db8e6851379b",
   "metadata": {},
   "outputs": [],
   "source": [
    "# Initialize clock\n",
    "clock = pygame.time.Clock()"
   ]
  },
  {
   "cell_type": "code",
   "execution_count": null,
   "id": "fb6204d6-dc50-414c-9bbd-f779cae48cf5",
   "metadata": {},
   "outputs": [],
   "source": [
    "# Define font\n",
    "font_style = pygame.font.SysFont(None, 35)\n",
    "score_font = pygame.font.SysFont(None, 35)"
   ]
  },
  {
   "cell_type": "code",
   "execution_count": null,
   "id": "dacd0cfb-36c0-4499-9dcb-3187839f4eee",
   "metadata": {},
   "outputs": [],
   "source": [
    "def our_snake(snake_block, snake_list):\n",
    "    for x in snake_list:\n",
    "        pygame.draw.rect(display, black, [x[0], x[1], snake_block, snake_block])"
   ]
  },
  {
   "cell_type": "code",
   "execution_count": null,
   "id": "fc9e17e8-6e35-480f-80b5-2d26bff2059c",
   "metadata": {},
   "outputs": [],
   "source": [
    "def message(msg, color):\n",
    "    mesg = font_style.render(msg, True, color)\n",
    "    display.blit(mesg, [display_width / 6, display_height / 3])"
   ]
  },
  {
   "cell_type": "code",
   "execution_count": null,
   "id": "02e0c3a6-c949-4ec0-9f35-3772bcec9a60",
   "metadata": {},
   "outputs": [],
   "source": [
    "def gameLoop():\n",
    "    game_over = False\n",
    "    game_close = False\n",
    "\n",
    "    x1 = display_width / 2\n",
    "    y1 = display_height / 2\n",
    "\n",
    "    x1_change = 0\n",
    "    y1_change = 0\n",
    "\n",
    "    snake_List = []\n",
    "    Length_of_snake = 1\n",
    "\n",
    "    foodx = round(random.randrange(0, display_width - snake_block) / 10.0) * 10.0\n",
    "    foody = round(random.randrange(0, display_height - snake_block) / 10.0) * 10.0\n",
    "\n",
    "    while not game_over:\n",
    "\n",
    "        while game_close:\n",
    "            display.fill(blue)\n",
    "            message(\"You Lost! Press Q-Quit or C-Play Again\", red)\n",
    "            pygame.display.update()\n",
    "\n",
    "            for event in pygame.event.get():\n",
    "                if event.type == pygame.KEYDOWN:\n",
    "                    if event.key == pygame.K_q:\n",
    "                        game_over = True\n",
    "                        game_close = False\n",
    "                    if event.key == pygame.K_c:\n",
    "                        gameLoop()\n",
    "\n",
    "        for event in pygame.event.get():\n",
    "            if event.type == pygame.QUIT:\n",
    "                game_over = True\n",
    "            if event.type == pygame.KEYDOWN:\n",
    "                if event.key == pygame.K_LEFT:\n",
    "                    x1_change = -snake_block\n",
    "                    y1_change = 0\n",
    "                elif event.key == pygame.K_RIGHT:\n",
    "                    x1_change = snake_block\n",
    "                    y1_change = 0\n",
    "                elif event.key == pygame.K_UP:\n",
    "                    y1_change = -snake_block\n",
    "                    x1_change = 0\n",
    "                elif event.key == pygame.K_DOWN:\n",
    "                    y1_change = snake_block\n",
    "                    x1_change = 0\n",
    "\n",
    "        if x1 >= display_width or x1 < 0 or y1 >= display_height or y1 < 0:\n",
    "            game_close = True\n",
    "        x1 += x1_change\n",
    "        y1 += y1_change\n",
    "        display.fill(blue)\n",
    "        pygame.draw.rect(display, green, [foodx, foody, snake_block, snake_block])\n",
    "        snake_Head = []\n",
    "        snake_Head.append(x1)\n",
    "        snake_Head.append(y1)\n",
    "        snake_List.append(snake_Head)\n",
    "        if len(snake_List) > Length_of_snake:\n",
    "            del snake_List[0]\n",
    "\n",
    "        for x in snake_List[:-1]:\n",
    "            if x == snake_Head:\n",
    "                game_close = True\n",
    "\n",
    "        our_snake(snake_block, snake_List)\n",
    "\n",
    "        pygame.display.update()\n",
    "\n",
    "        if x1 == foodx and y1 == foody:\n",
    "            foodx = round(random.randrange(0, display_width - snake_block) / 10.0) * 10.0\n",
    "            foody = round(random.randrange(0, display_height - snake_block) / 10.0) * 10.0\n",
    "            Length_of_snake += 1\n",
    "\n",
    "        clock.tick(snake_speed)\n",
    "\n",
    "    pygame.quit()\n",
    "    quit()\n",
    "\n",
    "gameLoop()\n"
   ]
  },
  {
   "cell_type": "code",
   "execution_count": null,
   "id": "49d1cdab-9ad1-4a43-8a7a-ca13740df6ab",
   "metadata": {},
   "outputs": [],
   "source": []
  },
  {
   "cell_type": "code",
   "execution_count": null,
   "id": "7b6aecdb-08f2-4dc5-8199-2f9bdd3f5ce1",
   "metadata": {},
   "outputs": [],
   "source": []
  },
  {
   "cell_type": "code",
   "execution_count": null,
   "id": "65659786-d59d-44f4-8166-41ac3c1fc853",
   "metadata": {},
   "outputs": [],
   "source": []
  },
  {
   "cell_type": "code",
   "execution_count": null,
   "id": "779a239a-4490-4322-b069-32a32c08af01",
   "metadata": {},
   "outputs": [],
   "source": []
  },
  {
   "cell_type": "code",
   "execution_count": null,
   "id": "05bcec67-a2d2-4c4b-bbdc-1b32a97a9cdb",
   "metadata": {},
   "outputs": [],
   "source": []
  }
 ],
 "metadata": {
  "kernelspec": {
   "display_name": "Python 3 (ipykernel)",
   "language": "python",
   "name": "python3"
  },
  "language_info": {
   "codemirror_mode": {
    "name": "ipython",
    "version": 3
   },
   "file_extension": ".py",
   "mimetype": "text/x-python",
   "name": "python",
   "nbconvert_exporter": "python",
   "pygments_lexer": "ipython3",
   "version": "3.12.3"
  }
 },
 "nbformat": 4,
 "nbformat_minor": 5
}
