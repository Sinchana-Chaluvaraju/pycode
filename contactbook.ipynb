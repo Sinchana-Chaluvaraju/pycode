{
 "cells": [
  {
   "cell_type": "code",
   "execution_count": 1,
   "id": "7e77d82a-2fe1-465a-a2b9-4c3b98a51d08",
   "metadata": {},
   "outputs": [],
   "source": [
    "contacts = {}"
   ]
  },
  {
   "cell_type": "code",
   "execution_count": 2,
   "id": "cea45a96-e96f-4bb3-ba75-502847442306",
   "metadata": {},
   "outputs": [],
   "source": [
    "def add_contact(name, number):\n",
    "    contacts[name] = number\n",
    "    print(f\"Added contact: {name} - {number}\")\n",
    "    "
   ]
  },
  {
   "cell_type": "code",
   "execution_count": 3,
   "id": "bbd75195-f762-4d6d-8b8a-6b777ab3e850",
   "metadata": {},
   "outputs": [],
   "source": [
    "def view_contacts():\n",
    "    if contacts:\n",
    "        for name, number in contacts.items():\n",
    "            print(f\"{name}: {number}\")\n",
    "        else:\n",
    "            print(\"no contacts found\")\n"
   ]
  },
  {
   "cell_type": "code",
   "execution_count": 4,
   "id": "12a3d336-2042-4258-929a-14c6eaf3cb3e",
   "metadata": {},
   "outputs": [],
   "source": [
    "def delete_contact(name):\n",
    "    if name in contacts:\n",
    "        del contacts[name]\n",
    "        print(f\"deleted contact: {name}\")\n",
    "\n",
    "    else:\n",
    "        print(\"contact not found\")\n",
    "\n"
   ]
  },
  {
   "cell_type": "code",
   "execution_count": null,
   "id": "55888bb8-dc0d-40b2-aada-7165054a604e",
   "metadata": {},
   "outputs": [
    {
     "name": "stdin",
     "output_type": "stream",
     "text": [
      "Enter command (add/view/delete/exit):  add\n",
      "Enter contact name:  Sinchana\n",
      "Enter contact number:  986543211223\n"
     ]
    },
    {
     "name": "stdout",
     "output_type": "stream",
     "text": [
      "Added contact: Sinchana - 986543211223\n"
     ]
    },
    {
     "name": "stdin",
     "output_type": "stream",
     "text": [
      "Enter command (add/view/delete/exit):  view\n"
     ]
    },
    {
     "name": "stdout",
     "output_type": "stream",
     "text": [
      "Sinchana: 986543211223\n",
      "no contacts found\n"
     ]
    },
    {
     "name": "stdin",
     "output_type": "stream",
     "text": [
      "Enter command (add/view/delete/exit):  delete\n",
      "Enter contact name to delete:  Sinchana\n"
     ]
    },
    {
     "name": "stdout",
     "output_type": "stream",
     "text": [
      "deleted contact: Sinchana\n"
     ]
    },
    {
     "name": "stdin",
     "output_type": "stream",
     "text": [
      "Enter command (add/view/delete/exit):  view\n",
      "Enter command (add/view/delete/exit):  add\n",
      "Enter contact name:  Aditya\n",
      "Enter contact number:  9845148589\n"
     ]
    },
    {
     "name": "stdout",
     "output_type": "stream",
     "text": [
      "Added contact: Aditya - 9845148589\n"
     ]
    },
    {
     "name": "stdin",
     "output_type": "stream",
     "text": [
      "Enter command (add/view/delete/exit):  view\n"
     ]
    },
    {
     "name": "stdout",
     "output_type": "stream",
     "text": [
      "Aditya: 9845148589\n",
      "no contacts found\n"
     ]
    },
    {
     "name": "stdin",
     "output_type": "stream",
     "text": [
      "Enter command (add/view/delete/exit):  add\n"
     ]
    }
   ],
   "source": [
    "while True:\n",
    "    command = input(\"Enter command (add/view/delete/exit): \")\n",
    "    if command == \"add\":\n",
    "        name = input(\"Enter contact name: \")\n",
    "        number = input(\"Enter contact number: \")\n",
    "        add_contact(name, number)\n",
    "    elif command == \"view\":\n",
    "        view_contacts()\n",
    "    elif command == \"delete\":\n",
    "        name = input(\"Enter contact name to delete: \")\n",
    "        delete_contact(name)\n",
    "    elif command == \"exit\":\n",
    "        break\n",
    "    else:\n",
    "        print(\"Unknown Command. \")"
   ]
  },
  {
   "cell_type": "code",
   "execution_count": null,
   "id": "c6a297ca-dba9-485d-a237-9c2ba2fa645f",
   "metadata": {},
   "outputs": [],
   "source": []
  }
 ],
 "metadata": {
  "kernelspec": {
   "display_name": "Python 3 (ipykernel)",
   "language": "python",
   "name": "python3"
  },
  "language_info": {
   "codemirror_mode": {
    "name": "ipython",
    "version": 3
   },
   "file_extension": ".py",
   "mimetype": "text/x-python",
   "name": "python",
   "nbconvert_exporter": "python",
   "pygments_lexer": "ipython3",
   "version": "3.12.3"
  }
 },
 "nbformat": 4,
 "nbformat_minor": 5
}
