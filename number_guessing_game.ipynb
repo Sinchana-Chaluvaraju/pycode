{
 "cells": [
  {
   "cell_type": "code",
   "execution_count": 1,
   "id": "1688fe41-9f39-43c3-abc3-18e74a10f86c",
   "metadata": {},
   "outputs": [],
   "source": [
    "import random"
   ]
  },
  {
   "cell_type": "markdown",
   "id": "2dd99ddc-0466-47c4-9f0c-8923d0abac12",
   "metadata": {},
   "source": [
    "def guess_number():\n",
    "    number = random.randint(1, 100)\n",
    "    attempts = 0\n",
    "\n",
    "    while True:\n",
    "        guess = int(input(\"Guess the number (1-100): \"))\n",
    "        attempts += 1\n",
    "        if guess < number:\n",
    "            print(\"Too low!\")\n",
    "\n",
    "        elif guess > number:\n",
    "            print(\"Too high!\")\n",
    "        else: \n",
    "            print(f\"Correct! The number was {number}. Attempts: {attempts}\")\n",
    "            break\n",
    "guess_number()"
   ]
  },
  {
   "cell_type": "code",
   "execution_count": null,
   "id": "f8db0380-3d35-44a1-91a8-af8093be759a",
   "metadata": {},
   "outputs": [],
   "source": []
  }
 ],
 "metadata": {
  "kernelspec": {
   "display_name": "Python 3 (ipykernel)",
   "language": "python",
   "name": "python3"
  },
  "language_info": {
   "codemirror_mode": {
    "name": "ipython",
    "version": 3
   },
   "file_extension": ".py",
   "mimetype": "text/x-python",
   "name": "python",
   "nbconvert_exporter": "python",
   "pygments_lexer": "ipython3",
   "version": "3.12.3"
  }
 },
 "nbformat": 4,
 "nbformat_minor": 5
}
