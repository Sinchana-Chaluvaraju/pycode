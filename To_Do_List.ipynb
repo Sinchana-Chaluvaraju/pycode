{
 "cells": [
  {
   "cell_type": "code",
   "execution_count": 18,
   "id": "783eb2e4-d308-4f7b-afe9-8b395a0ee3f6",
   "metadata": {},
   "outputs": [],
   "source": [
    "tasks = []"
   ]
  },
  {
   "cell_type": "code",
   "execution_count": 19,
   "id": "d671293f-2a27-4d33-80c7-8bbc085b3670",
   "metadata": {},
   "outputs": [],
   "source": [
    "def add_task(tasks):\n",
    "    tasks.append(tasks)\n",
    "    print(f\"Added task: {tasks}\")\n"
   ]
  },
  {
   "cell_type": "code",
   "execution_count": 20,
   "id": "db2539a8-70d5-4fe8-95c7-6530adfe8c3b",
   "metadata": {},
   "outputs": [],
   "source": [
    "def view_tasks(tasks):\n",
    "    if tasks:\n",
    "        for idx, task in enumerate(tasks, 1):\n",
    "            print(f\"{idx}. {task}\")\n",
    "        else:\n",
    "            print(\"No tasks in the list.\" )\n"
   ]
  },
  {
   "cell_type": "code",
   "execution_count": 21,
   "id": "2ccca464-d666-4e46-980e-4d81d8e94853",
   "metadata": {},
   "outputs": [],
   "source": [
    "def remove_task(index):\n",
    "    try:\n",
    "        task = tasks.pop(index - 1)\n",
    "        print(f\"Removed task: {task}\")\n",
    "    except IndexError:\n",
    "        print(\"Invalid task number.\")\n",
    "    "
   ]
  },
  {
   "cell_type": "code",
   "execution_count": 33,
   "id": "2048f7b7-f156-458b-b817-73353427a14b",
   "metadata": {},
   "outputs": [],
   "source": [
    "def save_tasks(filename =\"tasks.txt\"):\n",
    "    with open(filename, 'w') as f:\n",
    "        for task in tasks:\n",
    "            f.write(task + '\\n' )\n",
    "    print(f\"Tasks saved to {filename}\")"
   ]
  },
  {
   "cell_type": "code",
   "execution_count": 34,
   "id": "b372cec4-ea0d-4b6c-ac3e-96e03f06dfd1",
   "metadata": {},
   "outputs": [
    {
     "name": "stdout",
     "output_type": "stream",
     "text": [
      "Tasks loaded from tasks.txt\n"
     ]
    }
   ],
   "source": [
    "def load_tasks(filename = \"tasks.txt\"):\n",
    "    try:\n",
    "        with open(filename, 'r') as f:\n",
    "            for line in f:\n",
    "                tasks.append(line.strip())\n",
    "        print(f\"Tasks loaded from {filename}\")\n",
    "    except FileNotFoundError:\n",
    "        print(f\"No existing task file found: {filename}\")\n",
    "load_tasks()"
   ]
  },
  {
   "cell_type": "code",
   "execution_count": null,
   "id": "ff536c50-21cf-4273-82c7-17b2a746de76",
   "metadata": {},
   "outputs": [
    {
     "name": "stdin",
     "output_type": "stream",
     "text": [
      "Enter command (add/view/remove/save/exit):  add\n",
      "Enter task:  apple\n"
     ]
    },
    {
     "name": "stdout",
     "output_type": "stream",
     "text": [
      "Added task: [[...], [...], [...], [...], [...]]\n"
     ]
    },
    {
     "name": "stdin",
     "output_type": "stream",
     "text": [
      "Enter command (add/view/remove/save/exit):  add\n",
      "Enter task:  banana\n"
     ]
    },
    {
     "name": "stdout",
     "output_type": "stream",
     "text": [
      "Added task: [[...], [...], [...], [...], [...], [...]]\n"
     ]
    }
   ],
   "source": [
    "while True:\n",
    "    command = input(\"Enter command (add/view/remove/save/exit): \")\n",
    "    if command == \"add\":\n",
    "        task = input(\"Enter task: \").strip()\n",
    "        if task:\n",
    "            add_task(tasks)\n",
    "        else:\n",
    "            print(\"Task cannot be empty\")\n",
    "            \n",
    "    elif command == \"view\":\n",
    "        view_tasks(tasks)\n",
    "    \n",
    "    elif command == \"remove\":\n",
    "        try:      \n",
    "            index = int(input(\"Enter task number to remove: \").strip())\n",
    "            remove_task(index)\n",
    "        except ValueError:\n",
    "            print(\"Please enter a valid number.\")\n",
    "            \n",
    "    elif command == \"save\":\n",
    "        save_tasks()\n",
    "        print(\"Tasks Saved!\")\n",
    "    \n",
    "    elif command == \"exit\":\n",
    "        save_tasks()\n",
    "        break\n",
    "    else:\n",
    "        print(\"Unknown Command.\")"
   ]
  },
  {
   "cell_type": "code",
   "execution_count": null,
   "id": "e8d5002e-db8f-4e55-b796-3a1eb7707dcd",
   "metadata": {},
   "outputs": [],
   "source": []
  }
 ],
 "metadata": {
  "kernelspec": {
   "display_name": "Python 3 (ipykernel)",
   "language": "python",
   "name": "python3"
  },
  "language_info": {
   "codemirror_mode": {
    "name": "ipython",
    "version": 3
   },
   "file_extension": ".py",
   "mimetype": "text/x-python",
   "name": "python",
   "nbconvert_exporter": "python",
   "pygments_lexer": "ipython3",
   "version": "3.12.3"
  }
 },
 "nbformat": 4,
 "nbformat_minor": 5
}
