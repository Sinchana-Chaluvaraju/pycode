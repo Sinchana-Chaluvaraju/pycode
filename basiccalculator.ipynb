{
 "cells": [
  {
   "cell_type": "code",
   "execution_count": 7,
   "id": "a6e7248a-2362-4937-ba3f-ceb4da053574",
   "metadata": {},
   "outputs": [],
   "source": [
    "def add(x, y):\n",
    "    return x + y\n",
    "\n"
   ]
  },
  {
   "cell_type": "code",
   "execution_count": 8,
   "id": "def3456c-d3cd-4ba5-ba6a-9477b96ff85c",
   "metadata": {},
   "outputs": [],
   "source": [
    "def sub(x, y):\n",
    "    return x - y"
   ]
  },
  {
   "cell_type": "code",
   "execution_count": 9,
   "id": "7a8acbdc-b51b-478c-ae7d-37c99e2d5bac",
   "metadata": {},
   "outputs": [],
   "source": [
    "def multiply(x, y):\n",
    "    return x * y"
   ]
  },
  {
   "cell_type": "code",
   "execution_count": 10,
   "id": "839a8777-ba79-48f8-b8a2-24b930ff93a6",
   "metadata": {},
   "outputs": [],
   "source": [
    "def divide(x, y):\n",
    "    if y == 0:\n",
    "        return \"Error! Division by zero. \"\n",
    "    return x / y\n",
    "    "
   ]
  },
  {
   "cell_type": "code",
   "execution_count": 14,
   "id": "80276f88-ac00-456a-8764-7c14c2309edc",
   "metadata": {},
   "outputs": [
    {
     "name": "stdin",
     "output_type": "stream",
     "text": [
      " Enter operation (+, -, *, /) or 'exit' to quit:  off\n"
     ]
    }
   ],
   "source": [
    "while True:\n",
    "    operation = input(\" Enter operation (+, -, *, /) or 'exit' to quit: \")\n",
    "    if operation == \"off\":\n",
    "        break\n",
    "    if operation in ('+', '-', '*', '/'):\n",
    "        try:\n",
    "            num1 = float(input(\"Enter first number: \"))\n",
    "            num2 = float(input(\"Enter second number: \"))\n",
    "        except ValueError:\n",
    "            print(\"Invalid input! Please enter the numerical values. \")\n",
    "            continue\n",
    "\n",
    "        if operation == '+':\n",
    "            print(f\"Result: {add(num1, num2)}\")\n",
    "            \n",
    "        elif operation == '-':\n",
    "            print(f\"Result: {sub(num1, num2)}\")\n",
    "        elif operation == '*':\n",
    "            print(f\"Result: {multiply(num1, num2)}\")\n",
    "        elif operation == '/':\n",
    "            print(f\"Result: {divide(num1, num2)}\")\n",
    "\n",
    "    else:\n",
    "        print(\"Invalid operation!\")"
   ]
  },
  {
   "cell_type": "code",
   "execution_count": null,
   "id": "1d43d375-fb96-4972-a979-429d6a438ca2",
   "metadata": {},
   "outputs": [],
   "source": []
  }
 ],
 "metadata": {
  "kernelspec": {
   "display_name": "Python 3 (ipykernel)",
   "language": "python",
   "name": "python3"
  },
  "language_info": {
   "codemirror_mode": {
    "name": "ipython",
    "version": 3
   },
   "file_extension": ".py",
   "mimetype": "text/x-python",
   "name": "python",
   "nbconvert_exporter": "python",
   "pygments_lexer": "ipython3",
   "version": "3.12.3"
  }
 },
 "nbformat": 4,
 "nbformat_minor": 5
}
