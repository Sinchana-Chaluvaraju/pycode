{
 "cells": [
  {
   "cell_type": "code",
   "execution_count": 7,
   "id": "af6e9857-c1d8-4428-9a19-fd19584be7a5",
   "metadata": {},
   "outputs": [],
   "source": [
    "import random"
   ]
  },
  {
   "cell_type": "code",
   "execution_count": 8,
   "id": "76bf0a7b-c7e6-4572-a553-93b1acfb7e67",
   "metadata": {},
   "outputs": [],
   "source": [
    "import string"
   ]
  },
  {
   "cell_type": "code",
   "execution_count": 9,
   "id": "99162e5c-792a-4c50-9dbc-6cb5487f1c86",
   "metadata": {},
   "outputs": [],
   "source": [
    "def generate_password(length = 8, use_uppercase = True, use_digits = True, use_special = True):\n",
    "    characters = string.ascii_lowercase\n",
    "    if use_uppercase:\n",
    "        characters += string.ascii_uppercase\n",
    "    if use_digits:\n",
    "        characters += string.digits\n",
    "    if use_special:\n",
    "        characters += string.punctuation\n",
    "\n",
    "    password = ''.join(random.choice(characters)\n",
    "    for _ in range(length))\n",
    "    return password"
   ]
  },
  {
   "cell_type": "code",
   "execution_count": 16,
   "id": "d4374a5f-76b4-43fb-9920-c8031daefe44",
   "metadata": {},
   "outputs": [
    {
     "name": "stdin",
     "output_type": "stream",
     "text": [
      "Enter password length:  8\n",
      "Use uppercase letters (yes/no)? :  y\n",
      "Use digits? (yes/no) :  y\n",
      "Use special characters? (yes/no) :  y\n"
     ]
    }
   ],
   "source": [
    "length = int(input(\"Enter password length: \"))\n",
    "use_uppercase = input(\"Use uppercase letters (yes/no)? : \") == 'y'\n",
    "use_digits = input(\"Use digits? (yes/no) : \") == 'y'\n",
    "use_special = input(\"Use special characters? (yes/no) : \") == 'y'"
   ]
  },
  {
   "cell_type": "code",
   "execution_count": 18,
   "id": "df364cd5-8d91-42e7-886e-32d02f24f40a",
   "metadata": {},
   "outputs": [],
   "source": [
    "password = generate_password(length, use_uppercase, use_digits, use_special)"
   ]
  },
  {
   "cell_type": "code",
   "execution_count": 19,
   "id": "20a117e1-b65c-4c1d-86d5-b7775328eded",
   "metadata": {},
   "outputs": [
    {
     "name": "stdout",
     "output_type": "stream",
     "text": [
      "Generated password: [|AA@\"20\n"
     ]
    }
   ],
   "source": [
    "print(f\"Generated password: {password}\")"
   ]
  },
  {
   "cell_type": "code",
   "execution_count": null,
   "id": "7856fba5-a4f8-471e-98d8-be633e055125",
   "metadata": {},
   "outputs": [],
   "source": []
  }
 ],
 "metadata": {
  "kernelspec": {
   "display_name": "Python 3 (ipykernel)",
   "language": "python",
   "name": "python3"
  },
  "language_info": {
   "codemirror_mode": {
    "name": "ipython",
    "version": 3
   },
   "file_extension": ".py",
   "mimetype": "text/x-python",
   "name": "python",
   "nbconvert_exporter": "python",
   "pygments_lexer": "ipython3",
   "version": "3.12.3"
  }
 },
 "nbformat": 4,
 "nbformat_minor": 5
}
